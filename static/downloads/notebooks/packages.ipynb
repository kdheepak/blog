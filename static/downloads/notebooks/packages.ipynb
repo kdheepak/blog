{
 "cells": [
  {
   "cell_type": "code",
   "execution_count": 1,
   "id": "9bc4a3dc",
   "metadata": {},
   "outputs": [],
   "source": [
    "import requests"
   ]
  },
  {
   "cell_type": "code",
   "execution_count": 3,
   "id": "9dcb0aac",
   "metadata": {},
   "outputs": [],
   "source": [
    "r = requests.get(\"https://pypi.org/simple\")"
   ]
  },
  {
   "cell_type": "code",
   "execution_count": 5,
   "id": "fdb06783",
   "metadata": {},
   "outputs": [],
   "source": [
    "\n",
    "text = r.text"
   ]
  },
  {
   "cell_type": "code",
   "execution_count": 7,
   "id": "36f804a3",
   "metadata": {},
   "outputs": [],
   "source": [
    "from bs4 import BeautifulSoup\n",
    "\n",
    "soup = BeautifulSoup(text, 'html.parser')"
   ]
  },
  {
   "cell_type": "code",
   "execution_count": 13,
   "id": "c2e02d5b",
   "metadata": {},
   "outputs": [],
   "source": [
    "packages = set()\n",
    "for link in soup.find_all('a'):\n",
    "    packages.add(link.contents[0])"
   ]
  },
  {
   "cell_type": "code",
   "execution_count": 15,
   "id": "1897bba0",
   "metadata": {},
   "outputs": [
    {
     "data": {
      "text/plain": [
       "389611"
      ]
     },
     "execution_count": 15,
     "metadata": {},
     "output_type": "execute_result"
    }
   ],
   "source": [
    "len(packages)"
   ]
  },
  {
   "cell_type": "code",
   "execution_count": 26,
   "id": "221d3afd",
   "metadata": {},
   "outputs": [],
   "source": [
    "%matplotlib inline"
   ]
  },
  {
   "cell_type": "code",
   "execution_count": 27,
   "id": "205f8c64",
   "metadata": {},
   "outputs": [],
   "source": [
    "import matplotlib.pyplot as plt"
   ]
  },
  {
   "cell_type": "code",
   "execution_count": 28,
   "id": "c4fc7871",
   "metadata": {},
   "outputs": [],
   "source": [
    "from collections import defaultdict"
   ]
  },
  {
   "cell_type": "code",
   "execution_count": 29,
   "id": "0c188c96",
   "metadata": {},
   "outputs": [],
   "source": [
    "hist = defaultdict(lambda: 0)\n",
    "for p in packages:\n",
    "    hist[p[0].lower()] += 1"
   ]
  },
  {
   "cell_type": "code",
   "execution_count": 31,
   "id": "d1ed9ee3",
   "metadata": {},
   "outputs": [],
   "source": [
    "keys = sorted(list(hist.keys()))\n"
   ]
  },
  {
   "cell_type": "code",
   "execution_count": 32,
   "id": "b8ba2286",
   "metadata": {},
   "outputs": [
    {
     "data": {
      "text/plain": [
       "<BarContainer object of 36 artists>"
      ]
     },
     "execution_count": 32,
     "metadata": {},
     "output_type": "execute_result"
    },
    {
     "data": {
      "image/png": "[encoded data removed]",
      "text/plain": [
       "<Figure size 432x288 with 1 Axes>"
      ]
     },
     "metadata": {
      "needs_background": "light"
     },
     "output_type": "display_data"
    }
   ],
   "source": [
    "plt.bar(keys, [hist[k] for k in keys])"
   ]
  },
  {
   "cell_type": "code",
   "execution_count": null,
   "id": "55fc6f1e",
   "metadata": {},
   "outputs": [],
   "source": []
  },
  {
   "cell_type": "code",
   "execution_count": null,
   "id": "420c39f3",
   "metadata": {},
   "outputs": [],
   "source": []
  },
  {
   "cell_type": "code",
   "execution_count": null,
   "id": "9588dc77",
   "metadata": {},
   "outputs": [],
   "source": []
  }
 ],
 "metadata": {
  "kernelspec": {
   "display_name": "Python 3 (ipykernel)",
   "language": "python",
   "name": "python3"
  },
  "language_info": {
   "codemirror_mode": {
    "name": "ipython",
    "version": 3
   },
   "file_extension": ".py",
   "mimetype": "text/x-python",
   "name": "python",
   "nbconvert_exporter": "python",
   "pygments_lexer": "ipython3",
   "version": "3.10.4"
  }
 },
 "nbformat": 4,
 "nbformat_minor": 5
}
